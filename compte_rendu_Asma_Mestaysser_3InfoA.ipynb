{
  "cells": [
    {
      "cell_type": "markdown",
      "metadata": {
        "id": "view-in-github",
        "colab_type": "text"
      },
      "source": [
        "<a href=\"https://colab.research.google.com/github/asmamest/tp_bigdata/blob/main/compte_rendu_Asma_Mestaysser_3InfoA.ipynb\" target=\"_parent\"><img src=\"https://colab.research.google.com/assets/colab-badge.svg\" alt=\"Open In Colab\"/></a>"
      ]
    },
    {
      "cell_type": "markdown",
      "metadata": {
        "id": "HxEA0ND4JwjW"
      },
      "source": [
        "### Compte Rendu TP Spark - Asma Mestaysser"
      ]
    },
    {
      "cell_type": "code",
      "source": [
        "# Installation de PySpark\n",
        "!pip install pyspark\n",
        "\n",
        "# Import des bibliothèques nécessaires\n",
        "from pyspark.sql import SparkSession\n",
        "from pyspark.ml.recommendation import ALS\n",
        "from pyspark.ml.evaluation import RegressionEvaluator\n",
        "from pyspark.sql.functions import lit\n",
        "from google.colab import files\n",
        "import pandas as pd\n"
      ],
      "metadata": {
        "colab": {
          "base_uri": "https://localhost:8080/"
        },
        "id": "DfE6tY-LWpF5",
        "outputId": "4257083e-fb47-4500-dcad-ab7fd378ef0c"
      },
      "execution_count": 7,
      "outputs": [
        {
          "output_type": "stream",
          "name": "stdout",
          "text": [
            "Requirement already satisfied: pyspark in /usr/local/lib/python3.12/dist-packages (3.5.1)\n",
            "Requirement already satisfied: py4j==0.10.9.7 in /usr/local/lib/python3.12/dist-packages (from pyspark) (0.10.9.7)\n"
          ]
        }
      ]
    },
    {
      "cell_type": "code",
      "source": [
        "# 1- Créer une SparkSession et la démarrer\n",
        "spark = SparkSession.builder \\\n",
        "    .appName(\"Système de Recommandation\") \\\n",
        "    .getOrCreate()\n",
        "\n",
        "# Chargement du fichier\n",
        "uploaded = files.upload()"
      ],
      "metadata": {
        "colab": {
          "base_uri": "https://localhost:8080/",
          "height": 73
        },
        "id": "PbfYCPT8Wtzf",
        "outputId": "d7121fb0-6810-4d58-88f3-92ae2a5afb38"
      },
      "execution_count": 8,
      "outputs": [
        {
          "output_type": "display_data",
          "data": {
            "text/plain": [
              "<IPython.core.display.HTML object>"
            ],
            "text/html": [
              "\n",
              "     <input type=\"file\" id=\"files-59f15c98-dad3-43a4-abd2-5110813697e3\" name=\"files[]\" multiple disabled\n",
              "        style=\"border:none\" />\n",
              "     <output id=\"result-59f15c98-dad3-43a4-abd2-5110813697e3\">\n",
              "      Upload widget is only available when the cell has been executed in the\n",
              "      current browser session. Please rerun this cell to enable.\n",
              "      </output>\n",
              "      <script>// Copyright 2017 Google LLC\n",
              "//\n",
              "// Licensed under the Apache License, Version 2.0 (the \"License\");\n",
              "// you may not use this file except in compliance with the License.\n",
              "// You may obtain a copy of the License at\n",
              "//\n",
              "//      http://www.apache.org/licenses/LICENSE-2.0\n",
              "//\n",
              "// Unless required by applicable law or agreed to in writing, software\n",
              "// distributed under the License is distributed on an \"AS IS\" BASIS,\n",
              "// WITHOUT WARRANTIES OR CONDITIONS OF ANY KIND, either express or implied.\n",
              "// See the License for the specific language governing permissions and\n",
              "// limitations under the License.\n",
              "\n",
              "/**\n",
              " * @fileoverview Helpers for google.colab Python module.\n",
              " */\n",
              "(function(scope) {\n",
              "function span(text, styleAttributes = {}) {\n",
              "  const element = document.createElement('span');\n",
              "  element.textContent = text;\n",
              "  for (const key of Object.keys(styleAttributes)) {\n",
              "    element.style[key] = styleAttributes[key];\n",
              "  }\n",
              "  return element;\n",
              "}\n",
              "\n",
              "// Max number of bytes which will be uploaded at a time.\n",
              "const MAX_PAYLOAD_SIZE = 100 * 1024;\n",
              "\n",
              "function _uploadFiles(inputId, outputId) {\n",
              "  const steps = uploadFilesStep(inputId, outputId);\n",
              "  const outputElement = document.getElementById(outputId);\n",
              "  // Cache steps on the outputElement to make it available for the next call\n",
              "  // to uploadFilesContinue from Python.\n",
              "  outputElement.steps = steps;\n",
              "\n",
              "  return _uploadFilesContinue(outputId);\n",
              "}\n",
              "\n",
              "// This is roughly an async generator (not supported in the browser yet),\n",
              "// where there are multiple asynchronous steps and the Python side is going\n",
              "// to poll for completion of each step.\n",
              "// This uses a Promise to block the python side on completion of each step,\n",
              "// then passes the result of the previous step as the input to the next step.\n",
              "function _uploadFilesContinue(outputId) {\n",
              "  const outputElement = document.getElementById(outputId);\n",
              "  const steps = outputElement.steps;\n",
              "\n",
              "  const next = steps.next(outputElement.lastPromiseValue);\n",
              "  return Promise.resolve(next.value.promise).then((value) => {\n",
              "    // Cache the last promise value to make it available to the next\n",
              "    // step of the generator.\n",
              "    outputElement.lastPromiseValue = value;\n",
              "    return next.value.response;\n",
              "  });\n",
              "}\n",
              "\n",
              "/**\n",
              " * Generator function which is called between each async step of the upload\n",
              " * process.\n",
              " * @param {string} inputId Element ID of the input file picker element.\n",
              " * @param {string} outputId Element ID of the output display.\n",
              " * @return {!Iterable<!Object>} Iterable of next steps.\n",
              " */\n",
              "function* uploadFilesStep(inputId, outputId) {\n",
              "  const inputElement = document.getElementById(inputId);\n",
              "  inputElement.disabled = false;\n",
              "\n",
              "  const outputElement = document.getElementById(outputId);\n",
              "  outputElement.innerHTML = '';\n",
              "\n",
              "  const pickedPromise = new Promise((resolve) => {\n",
              "    inputElement.addEventListener('change', (e) => {\n",
              "      resolve(e.target.files);\n",
              "    });\n",
              "  });\n",
              "\n",
              "  const cancel = document.createElement('button');\n",
              "  inputElement.parentElement.appendChild(cancel);\n",
              "  cancel.textContent = 'Cancel upload';\n",
              "  const cancelPromise = new Promise((resolve) => {\n",
              "    cancel.onclick = () => {\n",
              "      resolve(null);\n",
              "    };\n",
              "  });\n",
              "\n",
              "  // Wait for the user to pick the files.\n",
              "  const files = yield {\n",
              "    promise: Promise.race([pickedPromise, cancelPromise]),\n",
              "    response: {\n",
              "      action: 'starting',\n",
              "    }\n",
              "  };\n",
              "\n",
              "  cancel.remove();\n",
              "\n",
              "  // Disable the input element since further picks are not allowed.\n",
              "  inputElement.disabled = true;\n",
              "\n",
              "  if (!files) {\n",
              "    return {\n",
              "      response: {\n",
              "        action: 'complete',\n",
              "      }\n",
              "    };\n",
              "  }\n",
              "\n",
              "  for (const file of files) {\n",
              "    const li = document.createElement('li');\n",
              "    li.append(span(file.name, {fontWeight: 'bold'}));\n",
              "    li.append(span(\n",
              "        `(${file.type || 'n/a'}) - ${file.size} bytes, ` +\n",
              "        `last modified: ${\n",
              "            file.lastModifiedDate ? file.lastModifiedDate.toLocaleDateString() :\n",
              "                                    'n/a'} - `));\n",
              "    const percent = span('0% done');\n",
              "    li.appendChild(percent);\n",
              "\n",
              "    outputElement.appendChild(li);\n",
              "\n",
              "    const fileDataPromise = new Promise((resolve) => {\n",
              "      const reader = new FileReader();\n",
              "      reader.onload = (e) => {\n",
              "        resolve(e.target.result);\n",
              "      };\n",
              "      reader.readAsArrayBuffer(file);\n",
              "    });\n",
              "    // Wait for the data to be ready.\n",
              "    let fileData = yield {\n",
              "      promise: fileDataPromise,\n",
              "      response: {\n",
              "        action: 'continue',\n",
              "      }\n",
              "    };\n",
              "\n",
              "    // Use a chunked sending to avoid message size limits. See b/62115660.\n",
              "    let position = 0;\n",
              "    do {\n",
              "      const length = Math.min(fileData.byteLength - position, MAX_PAYLOAD_SIZE);\n",
              "      const chunk = new Uint8Array(fileData, position, length);\n",
              "      position += length;\n",
              "\n",
              "      const base64 = btoa(String.fromCharCode.apply(null, chunk));\n",
              "      yield {\n",
              "        response: {\n",
              "          action: 'append',\n",
              "          file: file.name,\n",
              "          data: base64,\n",
              "        },\n",
              "      };\n",
              "\n",
              "      let percentDone = fileData.byteLength === 0 ?\n",
              "          100 :\n",
              "          Math.round((position / fileData.byteLength) * 100);\n",
              "      percent.textContent = `${percentDone}% done`;\n",
              "\n",
              "    } while (position < fileData.byteLength);\n",
              "  }\n",
              "\n",
              "  // All done.\n",
              "  yield {\n",
              "    response: {\n",
              "      action: 'complete',\n",
              "    }\n",
              "  };\n",
              "}\n",
              "\n",
              "scope.google = scope.google || {};\n",
              "scope.google.colab = scope.google.colab || {};\n",
              "scope.google.colab._files = {\n",
              "  _uploadFiles,\n",
              "  _uploadFilesContinue,\n",
              "};\n",
              "})(self);\n",
              "</script> "
            ]
          },
          "metadata": {}
        },
        {
          "output_type": "stream",
          "name": "stdout",
          "text": [
            "Saving rating2.csv to rating2 (2).csv\n"
          ]
        }
      ]
    },
    {
      "cell_type": "code",
      "source": [
        "# 3- Charger les données de « rating2.csv » dans un dataframe df\n",
        "filename = list(uploaded.keys())[0]\n",
        "df = spark.read.csv(filename, header=True, inferSchema=True)\n",
        "\n",
        "# 4- Afficher le contenu de df\n",
        "print(\"Contenu du DataFrame :\")\n",
        "df.show(10)\n",
        "print(\"Schéma du DataFrame :\")\n",
        "df.printSchema()\n"
      ],
      "metadata": {
        "colab": {
          "base_uri": "https://localhost:8080/"
        },
        "id": "TUDJGWDNW2M1",
        "outputId": "6e928611-dfa8-4f92-fa54-366640e96644"
      },
      "execution_count": 9,
      "outputs": [
        {
          "output_type": "stream",
          "name": "stdout",
          "text": [
            "Contenu du DataFrame :\n",
            "+------+-------+------+----------+\n",
            "|userId|movieId|rating| timestamp|\n",
            "+------+-------+------+----------+\n",
            "|     1|      2|   3.5|1112486027|\n",
            "|     1|     29|   3.5|1112484676|\n",
            "|     1|     32|   3.5|1112484819|\n",
            "|     1|     47|   3.5|1112484727|\n",
            "|     1|     50|   3.5|1112484580|\n",
            "|     1|    112|   3.5|1094785740|\n",
            "|     1|    151|   4.0|1094785734|\n",
            "|     1|    223|   4.0|1112485573|\n",
            "|     1|    253|   4.0|1112484940|\n",
            "|     1|    260|   4.0|1112484826|\n",
            "+------+-------+------+----------+\n",
            "only showing top 10 rows\n",
            "\n",
            "Schéma du DataFrame :\n",
            "root\n",
            " |-- userId: integer (nullable = true)\n",
            " |-- movieId: integer (nullable = true)\n",
            " |-- rating: double (nullable = true)\n",
            " |-- timestamp: integer (nullable = true)\n",
            "\n"
          ]
        }
      ]
    },
    {
      "cell_type": "code",
      "source": [
        "\n",
        "# 5- Supprimer les colonnes inutilisables pour cet exercice\n",
        "columns_to_keep = ['userId', 'movieId', 'rating']\n",
        "existing_columns = df.columns\n",
        "columns_to_drop = [col for col in existing_columns if col not in columns_to_keep]\n",
        "\n",
        "if columns_to_drop:\n",
        "    df = df.drop(*columns_to_drop)\n",
        "    print(f\"Colonnes supprimées : {columns_to_drop}\")\n",
        "\n",
        "print(\"DataFrame après suppression des colonnes inutiles :\")\n",
        "df.show(10)\n",
        "\n",
        "# Vérifier les valeurs nulles\n",
        "print(\"Valeurs nulles par colonne :\")\n",
        "from pyspark.sql.functions import col, sum as spark_sum\n",
        "df.select([spark_sum(col(c).isNull().cast(\"int\")).alias(c) for c in df.columns]).show()\n",
        "\n",
        "# Nettoyer les données\n",
        "df_clean = df.na.drop()\n",
        "print(f\"Nombre de lignes avant nettoyage : {df.count()}\")\n",
        "print(f\"Nombre de lignes après nettoyage : {df_clean.count()}\")"
      ],
      "metadata": {
        "colab": {
          "base_uri": "https://localhost:8080/"
        },
        "id": "1gwT6OblW6WB",
        "outputId": "78e53d3a-3fd3-48bf-a30e-12026e24973b"
      },
      "execution_count": 10,
      "outputs": [
        {
          "output_type": "stream",
          "name": "stdout",
          "text": [
            "Colonnes supprimées : ['timestamp']\n",
            "DataFrame après suppression des colonnes inutiles :\n",
            "+------+-------+------+\n",
            "|userId|movieId|rating|\n",
            "+------+-------+------+\n",
            "|     1|      2|   3.5|\n",
            "|     1|     29|   3.5|\n",
            "|     1|     32|   3.5|\n",
            "|     1|     47|   3.5|\n",
            "|     1|     50|   3.5|\n",
            "|     1|    112|   3.5|\n",
            "|     1|    151|   4.0|\n",
            "|     1|    223|   4.0|\n",
            "|     1|    253|   4.0|\n",
            "|     1|    260|   4.0|\n",
            "+------+-------+------+\n",
            "only showing top 10 rows\n",
            "\n",
            "Valeurs nulles par colonne :\n",
            "+------+-------+------+\n",
            "|userId|movieId|rating|\n",
            "+------+-------+------+\n",
            "|     0|      0|     0|\n",
            "+------+-------+------+\n",
            "\n",
            "Nombre de lignes avant nettoyage : 999999\n",
            "Nombre de lignes après nettoyage : 999999\n"
          ]
        }
      ]
    },
    {
      "cell_type": "code",
      "source": [
        "# 6- Diviser le dataset en training et testing sets (0.8, 0.2)\n",
        "training, test = df_clean.randomSplit([0.8, 0.2], seed=42)\n",
        "print(f\"Training set: {training.count()} lignes\")\n",
        "print(f\"Test set: {test.count()} lignes\")\n"
      ],
      "metadata": {
        "colab": {
          "base_uri": "https://localhost:8080/"
        },
        "id": "SO2XJm4VW_9y",
        "outputId": "adac80f0-bd4f-4cc0-fe90-0925f45109af"
      },
      "execution_count": 11,
      "outputs": [
        {
          "output_type": "stream",
          "name": "stdout",
          "text": [
            "Training set: 799967 lignes\n",
            "Test set: 200032 lignes\n"
          ]
        }
      ]
    },
    {
      "cell_type": "code",
      "source": [
        "# 7- Créer le modèle ALS\n",
        "als = ALS(\n",
        "    maxIter=5,\n",
        "    regParam=0.01,\n",
        "    userCol='userId',\n",
        "    itemCol='movieId',\n",
        "    ratingCol='rating',\n",
        "    coldStartStrategy=\"drop\"  # Pour éviter les erreurs avec des utilisateurs/items non vus\n",
        ")\n",
        "\n",
        "\"\"\"\n",
        "- maxIter : nombre maximum d'itérations que l'algorithme ALS va exécuter\n",
        "- regParam : paramètre de régularisation pour éviter le surapprentissage (overfitting)\n",
        "\"\"\"\n",
        "\n",
        "# 8- Créer le modèle en utilisant als.fit(training)\n",
        "model = als.fit(training)\n",
        "\n",
        "# 9- Créer une variable pred pour tester les performances du modèle\n",
        "predictions = model.transform(test)\n",
        "\n",
        "# 10- Analyser le résultat obtenu « pred »\n",
        "print(\"Prédictions sur le jeu de test :\")\n",
        "predictions.show(10)"
      ],
      "metadata": {
        "colab": {
          "base_uri": "https://localhost:8080/"
        },
        "id": "7UE3MzSRXOAB",
        "outputId": "fec2321b-497d-4e89-e130-6ebecfe32b63"
      },
      "execution_count": 12,
      "outputs": [
        {
          "output_type": "stream",
          "name": "stdout",
          "text": [
            "Prédictions sur le jeu de test :\n",
            "+------+-------+------+----------+\n",
            "|userId|movieId|rating|prediction|\n",
            "+------+-------+------+----------+\n",
            "|   471|   1088|   2.0| 3.8851678|\n",
            "|   471|   1959|   4.0| 3.8692205|\n",
            "|  1829|   1580|   3.5| 4.5470896|\n",
            "|  1959|   1580|   3.0| 3.1491845|\n",
            "|  2866|   1580|   3.0| 3.1816525|\n",
            "|  3749|   1088|   3.0| 3.6177936|\n",
            "|  1395|    471|   3.0| 2.7293782|\n",
            "|  1460|    471|   5.0|  4.656977|\n",
            "|  1507|   1591|   1.5| 2.4445825|\n",
            "|  2387|   8638|   4.0| 3.1791344|\n",
            "+------+-------+------+----------+\n",
            "only showing top 10 rows\n",
            "\n"
          ]
        }
      ]
    },
    {
      "cell_type": "code",
      "source": [
        "# 11- Calculer le « rmse » entre les colonnes pred et rating\n",
        "evaluator = RegressionEvaluator(\n",
        "    metricName=\"rmse\",\n",
        "    labelCol=\"rating\",\n",
        "    predictionCol=\"prediction\"\n",
        ")\n",
        "\n",
        "rmse = evaluator.evaluate(predictions)\n",
        "print(f\"RMSE = {rmse}\")"
      ],
      "metadata": {
        "colab": {
          "base_uri": "https://localhost:8080/"
        },
        "id": "sx1b3GkLXTqK",
        "outputId": "af9b55da-f181-4a58-a8bb-777edf83acc2"
      },
      "execution_count": 13,
      "outputs": [
        {
          "output_type": "stream",
          "name": "stdout",
          "text": [
            "RMSE = 0.8914683069616569\n"
          ]
        }
      ]
    },
    {
      "cell_type": "code",
      "source": [
        "# 12- Afficher le user 600 et les différents ids des films votés par ce user\n",
        "user_600_ratings = df_clean.filter(df_clean.userId == 600)\n",
        "print(\"Films notés par l'utilisateur 600 :\")\n",
        "user_600_ratings.show()"
      ],
      "metadata": {
        "colab": {
          "base_uri": "https://localhost:8080/"
        },
        "id": "kPifmIijXd-A",
        "outputId": "a6615fdc-878a-4046-88ba-56d28d7f1955"
      },
      "execution_count": 14,
      "outputs": [
        {
          "output_type": "stream",
          "name": "stdout",
          "text": [
            "Films notés par l'utilisateur 600 :\n",
            "+------+-------+------+\n",
            "|userId|movieId|rating|\n",
            "+------+-------+------+\n",
            "|   600|      1|   4.0|\n",
            "|   600|     16|   4.0|\n",
            "|   600|     32|   5.0|\n",
            "|   600|     34|   5.0|\n",
            "|   600|     47|   2.0|\n",
            "|   600|     50|   5.0|\n",
            "|   600|     70|   2.0|\n",
            "|   600|    111|   1.0|\n",
            "|   600|    150|   4.0|\n",
            "|   600|    160|   2.0|\n",
            "|   600|    177|   2.0|\n",
            "|   600|    188|   3.0|\n",
            "|   600|    196|   2.0|\n",
            "|   600|    246|   4.0|\n",
            "|   600|    247|   3.0|\n",
            "|   600|    253|   3.0|\n",
            "|   600|    260|   5.0|\n",
            "|   600|    266|   4.0|\n",
            "|   600|    273|   4.0|\n",
            "|   600|    296|   1.0|\n",
            "+------+-------+------+\n",
            "only showing top 20 rows\n",
            "\n"
          ]
        }
      ]
    },
    {
      "cell_type": "code",
      "source": [
        "# 13- Appliquer le modèle créé sur le user 600\n",
        "# Recommander des films pour l'utilisateur 600\n",
        "user_600_recommendations = model.recommendForUserSubset(\n",
        "    spark.createDataFrame([(600,)], [\"userId\"]),\n",
        "    10  # Nombre de recommandations\n",
        ")\n",
        "\n",
        "print(\"Recommandations pour l'utilisateur 600 :\")\n",
        "user_600_recommendations.show(truncate=False)"
      ],
      "metadata": {
        "colab": {
          "base_uri": "https://localhost:8080/"
        },
        "id": "KHY_q-yiXg-K",
        "outputId": "d85f09e1-391c-4980-9c39-bef8cff9e5cb"
      },
      "execution_count": 15,
      "outputs": [
        {
          "output_type": "stream",
          "name": "stdout",
          "text": [
            "Recommandations pour l'utilisateur 600 :\n",
            "+------+---------------------------------------------------------------------------------------------------------------------------------------------------------------------------------------------+\n",
            "|userId|recommendations                                                                                                                                                                              |\n",
            "+------+---------------------------------------------------------------------------------------------------------------------------------------------------------------------------------------------+\n",
            "|600   |[{102684, 11.079477}, {1859, 9.718053}, {26631, 9.040137}, {79318, 8.923627}, {64114, 8.393925}, {25905, 8.326016}, {94266, 8.267231}, {26122, 8.231591}, {1529, 8.141736}, {6896, 7.931106}]|\n",
            "+------+---------------------------------------------------------------------------------------------------------------------------------------------------------------------------------------------+\n",
            "\n"
          ]
        }
      ]
    },
    {
      "cell_type": "code",
      "execution_count": 16,
      "metadata": {
        "colab": {
          "base_uri": "https://localhost:8080/"
        },
        "id": "fU0HZW_jJVBw",
        "outputId": "a5a8d7bb-f67a-45b6-b100-9283f0abbdff"
      },
      "outputs": [
        {
          "output_type": "stream",
          "name": "stdout",
          "text": [
            "Top 10 des films recommandés pour l'utilisateur 600 :\n",
            "+-------+------+----------+\n",
            "|movieId|userId|prediction|\n",
            "+-------+------+----------+\n",
            "| 102684|   600| 11.079478|\n",
            "|   1859|   600|  9.718052|\n",
            "|  26631|   600|  9.040137|\n",
            "|  79318|   600|  8.923628|\n",
            "|  64114|   600|  8.393925|\n",
            "|  25905|   600|  8.326017|\n",
            "|  94266|   600|  8.267231|\n",
            "|  26122|   600|  8.231591|\n",
            "|   1529|   600|  8.141735|\n",
            "|   6896|   600| 7.9311056|\n",
            "+-------+------+----------+\n",
            "only showing top 10 rows\n",
            "\n"
          ]
        }
      ],
      "source": [
        "\n",
        "\n",
        "\n",
        "# Générer des prédictions pour tous les films non notés\n",
        "\n",
        "# Créer un dataframe avec tous les movieIds uniques\n",
        "all_movies = df_clean.select('movieId').distinct()\n",
        "\n",
        "# Créer un dataframe avec l'utilisateur 600 pour chaque film\n",
        "user_600_with_all_movies = all_movies.withColumn('userId', lit(600))\n",
        "\n",
        "# Faire des prédictions\n",
        "user_600_predictions = model.transform(user_600_with_all_movies)\n",
        "\n",
        "# Exclure les films déjà notés par l'utilisateur 600\n",
        "movies_rated_by_600 = user_600_ratings.select('movieId')\n",
        "user_600_new_recommendations = user_600_predictions.join(\n",
        "    movies_rated_by_600,\n",
        "    user_600_predictions.movieId == movies_rated_by_600.movieId,\n",
        "    \"left_anti\"\n",
        ")\n",
        "\n",
        "# Afficher les meilleures recommandations\n",
        "print(\"Top 10 des films recommandés pour l'utilisateur 600 :\")\n",
        "user_600_new_recommendations.orderBy('prediction', ascending=False).show(10)\n",
        "\n"
      ]
    },
    {
      "cell_type": "code",
      "execution_count": 17,
      "metadata": {
        "id": "06sDuGdHKcwK"
      },
      "outputs": [],
      "source": [
        "# Arrêter la SparkSession\n",
        "spark.stop()"
      ]
    }
  ],
  "metadata": {
    "colab": {
      "provenance": [],
      "authorship_tag": "ABX9TyOlz7RIP9kIah6kBHQtKexs",
      "include_colab_link": true
    },
    "kernelspec": {
      "display_name": "Python 3",
      "name": "python3"
    },
    "language_info": {
      "name": "python"
    }
  },
  "nbformat": 4,
  "nbformat_minor": 0
}